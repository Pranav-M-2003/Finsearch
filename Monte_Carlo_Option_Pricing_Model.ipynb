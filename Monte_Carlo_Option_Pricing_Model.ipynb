{
  "nbformat": 4,
  "nbformat_minor": 0,
  "metadata": {
    "colab": {
      "provenance": []
    },
    "kernelspec": {
      "name": "python3",
      "display_name": "Python 3"
    },
    "language_info": {
      "name": "python"
    }
  },
  "cells": [
    {
      "cell_type": "code",
      "execution_count": 5,
      "metadata": {
        "colab": {
          "base_uri": "https://localhost:8080/"
        },
        "id": "ZI4S_Vvs5SSF",
        "outputId": "01c969f0-e586-444e-a685-6c6a4bc1e516"
      },
      "outputs": [
        {
          "output_type": "stream",
          "name": "stdout",
          "text": [
            "{'call_MC': 331.14351483415805, 'put_MC': 255.71093478053382}\n"
          ]
        }
      ],
      "source": [
        "from math import exp, sqrt\n",
        "import random\n",
        "import numpy as np\n",
        "\n",
        "\n",
        "## s0 = initial stock price\n",
        "## k = strike price\n",
        "## r = risk-less short rate\n",
        "## sig = volatility of stock value\n",
        "## dt = t/T = time to maturity\n",
        "## m = the number of path nodes\n",
        "## n = the number of simulation\n",
        "\n",
        "\n",
        "\n",
        "\n",
        "def asian_option_mc(s0, k, r, dt, sig, m, n):\n",
        "    # It is an arithmetic solution by using Monte Carlo method\n",
        "    delta_t = dt / m  # length of time interval\n",
        "    c = []\n",
        "    p = []\n",
        "    for i in range(0, n):\n",
        "        s = [s0]\n",
        "        for j in range(0, m):\n",
        "            s.append(s[-1] * exp((r - 0.5 * sig ** 2) * delta_t + (sig * sqrt(delta_t) * random.gauss(0, 1))))\n",
        "\n",
        "        avg = np.mean(s)\n",
        "        c.append(max((avg - k), 0))\n",
        "        p.append(max((k - avg), 0))\n",
        "\n",
        "    c_value = np.mean(c) * exp(-r * dt)\n",
        "   ## c_standard_error = np.std(c) / np.sqrt(n)\n",
        "\n",
        "    p_value = np.mean(p) * exp(-r * dt)\n",
        "   ## p_standard_error = np.std(p) / np.sqrt(n)\n",
        "\n",
        "    return {'call_MC': c_value, 'put_MC': p_value,\n",
        "            }\n",
        "\n",
        "\n",
        "## For eg\n",
        "print(asian_option_mc(5200, 5200, 0.03, 1, 0.25, 100, 20000))\n"
      ]
    },
    {
      "cell_type": "code",
      "source": [],
      "metadata": {
        "id": "fv0MzTlK5TN0"
      },
      "execution_count": null,
      "outputs": []
    }
  ]
}